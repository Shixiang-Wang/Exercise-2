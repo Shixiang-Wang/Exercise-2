{
  "nbformat": 4,
  "nbformat_minor": 0,
  "metadata": {
    "colab": {
      "provenance": []
    },
    "kernelspec": {
      "name": "python3",
      "display_name": "Python 3"
    },
    "language_info": {
      "name": "python"
    }
  },
  "cells": [
    {
      "cell_type": "code",
      "execution_count": 13,
      "metadata": {
        "id": "_vUipvPbyojF"
      },
      "outputs": [],
      "source": [
        "# Import required libraries\n",
        "import torch\n",
        "import torch.nn.functional as F\n",
        "import matplotlib.pyplot as plt\n",
        "import numpy as np\n",
        "%matplotlib inline"
      ]
    },
    {
      "cell_type": "code",
      "source": [
        "# Load Chinese names corpus\n",
        "words = open('Chinese_Names_Corpus.txt', 'r', encoding='utf-8-sig').read().splitlines()\n",
        "print(words[:8])\n",
        "len(words)"
      ],
      "metadata": {
        "colab": {
          "base_uri": "https://localhost:8080/"
        },
        "id": "qTzOU1Lckpl7",
        "outputId": "827bc194-3d04-41cf-bb3d-ddd2f13c567d"
      },
      "execution_count": 2,
      "outputs": [
        {
          "output_type": "stream",
          "name": "stdout",
          "text": [
            "['阿安', '阿彬', '阿斌', '阿滨', '阿冰', '阿冰冰', '阿兵', '阿婵']\n"
          ]
        },
        {
          "output_type": "execute_result",
          "data": {
            "text/plain": [
              "1144629"
            ]
          },
          "metadata": {},
          "execution_count": 2
        }
      ]
    },
    {
      "cell_type": "code",
      "source": [
        "# Build vocabulary of Chinese characters\n",
        "chars = sorted(list(set(''.join(words))))\n",
        "stoi = {s:i+1 for i,s in enumerate(chars)}\n",
        "stoi['.'] = 0\n",
        "itos = {i:s for s,i in stoi.items()}\n",
        "vocab_size = len(stoi)\n",
        "print(list(itos.items())[:20])\n",
        "print(f\"Vocabulary size: {vocab_size}\")"
      ],
      "metadata": {
        "colab": {
          "base_uri": "https://localhost:8080/"
        },
        "id": "Fij3lePFkt3U",
        "outputId": "74ef669d-959a-4a27-fb13-1c4991822fed"
      },
      "execution_count": 3,
      "outputs": [
        {
          "output_type": "stream",
          "name": "stdout",
          "text": [
            "[(1, '一'), (2, '丁'), (3, '七'), (4, '万'), (5, '三'), (6, '上'), (7, '不'), (8, '与'), (9, '专'), (10, '丕'), (11, '世'), (12, '丘'), (13, '丙'), (14, '业'), (15, '丛'), (16, '东'), (17, '丝'), (18, '丞'), (19, '严'), (20, '丫')]\n",
            "Vocabulary size: 2271\n"
          ]
        }
      ]
    },
    {
      "cell_type": "code",
      "source": [
        "# Build the dataset\n",
        "block_size = 3 # Chinese names are typically 2-4 characters\n",
        "\n",
        "def build_dataset(words):\n",
        "  X, Y = [], []\n",
        "  for w in words:\n",
        "    context = [0] * block_size\n",
        "    for ch in w + '.':\n",
        "      ix = stoi[ch]\n",
        "      X.append(context)\n",
        "      Y.append(ix)\n",
        "      context = context[1:] + [ix]\n",
        "\n",
        "  X = torch.tensor(X)\n",
        "  Y = torch.tensor(Y)\n",
        "  print(X.shape, Y.shape)\n",
        "  return X, Y"
      ],
      "metadata": {
        "id": "28pfs20lkxPf"
      },
      "execution_count": 4,
      "outputs": []
    },
    {
      "cell_type": "code",
      "source": [
        "# Data splitting\n",
        "import random\n",
        "random.seed(42)\n",
        "random.shuffle(words)\n",
        "n1 = int(0.8*len(words))\n",
        "n2 = int(0.9*len(words))\n",
        "\n",
        "Xtr, Ytr = build_dataset(words[:n1])\n",
        "Xdev, Ydev = build_dataset(words[n1:n2])\n",
        "Xte, Yte = build_dataset(words[n2:])"
      ],
      "metadata": {
        "colab": {
          "base_uri": "https://localhost:8080/"
        },
        "id": "tyAqKISC2cKt",
        "outputId": "0027d986-af13-493b-b29f-111a2ac99343"
      },
      "execution_count": 5,
      "outputs": [
        {
          "output_type": "stream",
          "name": "stdout",
          "text": [
            "torch.Size([3520556, 3]) torch.Size([3520556])\n",
            "torch.Size([439716, 3]) torch.Size([439716])\n",
            "torch.Size([440089, 3]) torch.Size([440089])\n"
          ]
        }
      ]
    },
    {
      "cell_type": "code",
      "source": [
        "# Neural network parameter\n",
        "g = torch.Generator().manual_seed(2147483647) # for reproducibility\n",
        "embed_dim = 64  # Increased embedding dimension for Chinese\n",
        "hidden_dim = 512  # Larger hidden layer for character complexity\n",
        "C = torch.randn((vocab_size, embed_dim), generator=g)\n",
        "W1 = torch.randn((block_size * embed_dim, hidden_dim), generator=g)\n",
        "b1 = torch.randn(hidden_dim, generator=g)\n",
        "W2 = torch.randn((hidden_dim, vocab_size), generator=g)\n",
        "b2 = torch.randn(vocab_size, generator=g)\n",
        "parameters = [C, W1, b1, W2, b2]\n",
        "\n",
        "print(sum(p.nelement() for p in parameters)) # number of parameters in total\n",
        "for p in parameters:\n",
        "  p.requires_grad = True"
      ],
      "metadata": {
        "id": "0YCfS5YLk0Mn",
        "colab": {
          "base_uri": "https://localhost:8080/"
        },
        "outputId": "197bdb36-dd70-431c-e9ef-a1f239d7a950"
      },
      "execution_count": 6,
      "outputs": [
        {
          "output_type": "stream",
          "name": "stdout",
          "text": [
            "1409183\n"
          ]
        }
      ]
    },
    {
      "cell_type": "code",
      "source": [
        "# Training loop\n",
        "lossi = []\n",
        "stepi = []\n",
        "lri = []\n",
        "\n",
        "for i in range(200000):\n",
        "  # minibatch construct\n",
        "  ix = torch.randint(0, Xtr.shape[0], (32,))\n",
        "\n",
        "  # forward pass\n",
        "  emb = C[Xtr[ix]]\n",
        "  h = torch.tanh(emb.view(-1, block_size*embed_dim) @ W1 + b1)\n",
        "  logits = h @ W2 + b2\n",
        "  loss = F.cross_entropy(logits, Ytr[ix])\n",
        "\n",
        "  # backward pass\n",
        "  for p in parameters:\n",
        "    p.grad = None\n",
        "  loss.backward()\n",
        "\n",
        "  # update\n",
        "  lr = 0.1 if i < 100000 else 0.01\n",
        "  for p in parameters:\n",
        "    p.data += -lr * p.grad\n",
        "\n",
        "  # track stats\n",
        "  stepi.append(i)\n",
        "  lossi.append(loss.log10().item())\n",
        "\n",
        "plt.plot(stepi, lossi)"
      ],
      "metadata": {
        "colab": {
          "base_uri": "https://localhost:8080/",
          "height": 447
        },
        "id": "9DF85pqYk9dY",
        "outputId": "bf0b5ea7-a942-4f5f-ccdb-fc5c51bb765c"
      },
      "execution_count": 7,
      "outputs": [
        {
          "output_type": "execute_result",
          "data": {
            "text/plain": [
              "[<matplotlib.lines.Line2D at 0x7a283290ac90>]"
            ]
          },
          "metadata": {},
          "execution_count": 7
        },
        {
          "output_type": "display_data",
          "data": {
            "text/plain": [
              "<Figure size 640x480 with 1 Axes>"
            ],
            "image/png": "[encoded data removed]"
          },
          "metadata": {}
        }
      ]
    },
    {
      "cell_type": "code",
      "source": [
        "# sample from the model\n",
        "g = torch.Generator().manual_seed(2147483647 + 10)\n",
        "\n",
        "for _ in range(20):\n",
        "\n",
        "    out = []\n",
        "    context = [0] * block_size # initialize with all ...\n",
        "    while True:\n",
        "      emb = C[torch.tensor([context])] # (1,block_size,d)\n",
        "      h = torch.tanh(emb.view(1, -1) @ W1 + b1)\n",
        "      logits = h @ W2 + b2\n",
        "      probs = F.softmax(logits, dim=1)\n",
        "      ix = torch.multinomial(probs, num_samples=1, generator=g).item()\n",
        "      context = context[1:] + [ix]\n",
        "      out.append(ix)\n",
        "      if ix == 0:\n",
        "        break\n",
        "\n",
        "    print(''.join(itos[i] for i in out))"
      ],
      "metadata": {
        "colab": {
          "base_uri": "https://localhost:8080/"
        },
        "id": "r1NnjQMAZJQl",
        "outputId": "b956a105-273c-4655-f099-52b5228eea36"
      },
      "execution_count": 8,
      "outputs": [
        {
          "output_type": "stream",
          "name": "stdout",
          "text": [
            "苑湘华.\n",
            "龙杏江.\n",
            "林富丽.\n",
            "吴志龙.\n",
            "裴万.\n",
            "刘悦成.\n",
            "刘求军.\n",
            "林铁葵.\n",
            "肖克涛.\n",
            "陈丽艳.\n",
            "沈少博.\n",
            "于万琴.\n",
            "桂宏兰.\n",
            "胡少东.\n",
            "李志波.\n",
            "周世成.\n",
            "刘佳坤.\n",
            "何大兴.\n",
            "凌兴军.\n",
            "唐承林.\n"
          ]
        }
      ]
    },
    {
      "cell_type": "code",
      "source": [
        "# Model Evaluation\n",
        "def evaluate_model(X, Y, parameters, batch_size=1024):\n",
        "    C, W1, b1, W2, b2 = parameters\n",
        "\n",
        "    # Initialize metrics\n",
        "    total_loss = 0.0\n",
        "    total_samples = X.shape[0]\n",
        "\n",
        "    # Disable gradient computation to save memory\n",
        "    with torch.no_grad():\n",
        "        # Process in batches\n",
        "        for start in range(0, total_samples, batch_size):\n",
        "            end = min(start + batch_size, total_samples)\n",
        "            batch_X = X[start:end]\n",
        "            batch_Y = Y[start:end]\n",
        "\n",
        "            # Embedding and forward pass\n",
        "            emb = C[batch_X]\n",
        "            h = torch.tanh(emb.view(-1, block_size*embed_dim) @ W1 + b1)\n",
        "            logits = h @ W2 + b2\n",
        "\n",
        "            # Compute loss for this batch\n",
        "            batch_loss = F.cross_entropy(logits, batch_Y)\n",
        "            total_loss += batch_loss.item() * (end - start)\n",
        "\n",
        "    # Compute average metrics\n",
        "    avg_loss = total_loss / total_samples\n",
        "\n",
        "    # Perplexity calculation\n",
        "    perplexity = np.exp(avg_loss)\n",
        "\n",
        "    return {\n",
        "        'loss': avg_loss,\n",
        "        'perplexity': perplexity\n",
        "    }\n",
        "\n",
        "\n",
        "def comprehensive_model_assessment(Xtr, Ytr, Xdev, Ydev, Xte, Yte, parameters, itos):\n",
        "    print(\"Training Set Metrics:\")\n",
        "    train_metrics = evaluate_model(Xtr, Ytr, parameters)\n",
        "    print(train_metrics)\n",
        "\n",
        "    print(\"\\nValidation Set Metrics:\")\n",
        "    dev_metrics = evaluate_model(Xdev, Ydev, parameters)\n",
        "    print(dev_metrics)\n",
        "\n",
        "    print(\"\\nTest Set Metrics:\")\n",
        "    test_metrics = evaluate_model(Xte, Yte, parameters)\n",
        "    print(test_metrics)\n",
        "\n",
        "comprehensive_model_assessment(Xtr, Ytr, Xdev, Ydev, Xte, Yte, parameters, itos)"
      ],
      "metadata": {
        "colab": {
          "base_uri": "https://localhost:8080/"
        },
        "id": "XXFA-_bulCp2",
        "outputId": "5552b9bd-4fac-4e5a-a7d9-ce3275b040c7"
      },
      "execution_count": 9,
      "outputs": [
        {
          "output_type": "stream",
          "name": "stdout",
          "text": [
            "Training Set Metrics:\n",
            "{'loss': 4.3146473638261345, 'perplexity': 74.78724610509393}\n",
            "\n",
            "Validation Set Metrics:\n",
            "{'loss': 4.321349302918978, 'perplexity': 75.29014900334495}\n",
            "\n",
            "Test Set Metrics:\n",
            "{'loss': 4.318087785255132, 'perplexity': 75.044988866839}\n"
          ]
        }
      ]
    }
  ]
}